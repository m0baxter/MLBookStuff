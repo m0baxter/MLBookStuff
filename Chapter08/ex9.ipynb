{
 "cells": [
  {
   "cell_type": "code",
   "execution_count": 1,
   "metadata": {},
   "outputs": [],
   "source": [
    "import numpy as np\n",
    "import time\n",
    "\n",
    "from sklearn.datasets import fetch_mldata\n",
    "from sklearn.ensemble import RandomForestClassifier\n",
    "from sklearn.decomposition import PCA\n",
    "from sklearn.metrics import accuracy_score"
   ]
  },
  {
   "cell_type": "code",
   "execution_count": 2,
   "metadata": {},
   "outputs": [],
   "source": [
    "mnist = fetch_mldata( \"MNIST original\" )\n",
    "\n",
    "trainX, testX, trainY, testY = mnist.data[:60000], mnist.data[60000:], mnist.target[:60000], mnist.target[60000:]"
   ]
  },
  {
   "cell_type": "code",
   "execution_count": 3,
   "metadata": {},
   "outputs": [
    {
     "name": "stdout",
     "output_type": "stream",
     "text": [
      "Random forest trained in  3.5 s.\n"
     ]
    }
   ],
   "source": [
    "forest = RandomForestClassifier()\n",
    "\n",
    "t1 = time.time()\n",
    "forest.fit( trainX, trainY )\n",
    "t2 = time.time()\n",
    "\n",
    "original = t2 - t1\n",
    "\n",
    "print(f\"Random forest trained in {original : 4.1f} s.\")"
   ]
  },
  {
   "cell_type": "code",
   "execution_count": 4,
   "metadata": {},
   "outputs": [
    {
     "name": "stdout",
     "output_type": "stream",
     "text": [
      "PCA completed in  16.8 s.\n"
     ]
    }
   ],
   "source": [
    "pca = PCA( n_components = 0.95 )\n",
    "\n",
    "t3 = time.time()\n",
    "trainRedX = pca.fit_transform( trainX )\n",
    "t4 = time.time()\n",
    "\n",
    "pcaTime = t4 - t3\n",
    "\n",
    "print(f\"PCA completed in {pcaTime : 4.1f} s.\")"
   ]
  },
  {
   "cell_type": "code",
   "execution_count": 5,
   "metadata": {},
   "outputs": [
    {
     "name": "stdout",
     "output_type": "stream",
     "text": [
      "PCA reduced random forest trained in  8.2 s.\n"
     ]
    }
   ],
   "source": [
    "forestPCA = RandomForestClassifier()\n",
    "\n",
    "t5 = time.time()\n",
    "forestPCA.fit( trainRedX, trainY )\n",
    "t6 = time.time()\n",
    "\n",
    "reduced = t6 - t5\n",
    "\n",
    "print(f\"PCA reduced random forest trained in {reduced : 4.1f} s.\")"
   ]
  },
  {
   "cell_type": "code",
   "execution_count": 6,
   "metadata": {},
   "outputs": [
    {
     "name": "stdout",
     "output_type": "stream",
     "text": [
      "Original accuracy: 0.9481\n",
      "PCA reduced accuracy: 0.8843\n"
     ]
    }
   ],
   "source": [
    "pred    = forest.predict( testX )\n",
    "predPCA = forestPCA.predict( pca.transform( testX ) )\n",
    "\n",
    "acc = accuracy_score( testY, pred )\n",
    "accPCA = accuracy_score( testY, predPCA )\n",
    "\n",
    "print(f\"Original accuracy: {acc}\\nPCA reduced accuracy: {accPCA}\")"
   ]
  },
  {
   "cell_type": "code",
   "execution_count": null,
   "metadata": {},
   "outputs": [],
   "source": []
  }
 ],
 "metadata": {
  "kernelspec": {
   "display_name": "Python 3",
   "language": "python",
   "name": "python3"
  },
  "language_info": {
   "codemirror_mode": {
    "name": "ipython",
    "version": 3
   },
   "file_extension": ".py",
   "mimetype": "text/x-python",
   "name": "python",
   "nbconvert_exporter": "python",
   "pygments_lexer": "ipython3",
   "version": "3.6.5"
  }
 },
 "nbformat": 4,
 "nbformat_minor": 2
}
