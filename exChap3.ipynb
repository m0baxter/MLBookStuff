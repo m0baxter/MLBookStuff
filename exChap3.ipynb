{
 "cells": [
  {
   "cell_type": "markdown",
   "metadata": {},
   "source": [
    "# Classifiers"
   ]
  },
  {
   "cell_type": "code",
   "execution_count": 12,
   "metadata": {},
   "outputs": [],
   "source": [
    "import numpy as np\n",
    "import os\n",
    "%matplotlib inline\n",
    "import matplotlib\n",
    "import matplotlib.pyplot as plt\n",
    "\n",
    "from sklearn.neighbors import KNeighborsClassifier\n",
    "from sklearn.model_selection import GridSearchCV\n",
    "from sklearn.metrics import accuracy_score\n",
    "from sklearn.datasets import fetch_mldata\n",
    "from sklearn.pipeline import Pipeline\n",
    "from sklearn.preprocessing import StandardScaler"
   ]
  },
  {
   "cell_type": "markdown",
   "metadata": {},
   "source": [
    "## Load the MNIST data"
   ]
  },
  {
   "cell_type": "code",
   "execution_count": 13,
   "metadata": {},
   "outputs": [],
   "source": [
    "mnist = fetch_mldata('MNIST original')\n",
    "X, y = mnist[\"data\"], mnist[\"target\"]"
   ]
  },
  {
   "cell_type": "code",
   "execution_count": 14,
   "metadata": {},
   "outputs": [
    {
     "name": "stdout",
     "output_type": "stream",
     "text": [
      "mldata.org dataset: mnist-original\n",
      "(70000, 784) (70000,)\n"
     ]
    }
   ],
   "source": [
    "print(mnist[\"DESCR\"])\n",
    "print(X.shape, y.shape)"
   ]
  },
  {
   "cell_type": "code",
   "execution_count": 15,
   "metadata": {},
   "outputs": [
    {
     "data": {
      "image/png": "[encoded data removed]",
      "text/plain": [
       "<matplotlib.figure.Figure at 0x7f2b7230c518>"
      ]
     },
     "metadata": {},
     "output_type": "display_data"
    }
   ],
   "source": [
    "i = np.random.randint(60000)\n",
    "\n",
    "some_digit = X[i]\n",
    "some_digit_image = some_digit.reshape(28, 28)\n",
    "plt.imshow(some_digit_image, cmap = matplotlib.cm.binary,\n",
    "           interpolation=\"nearest\")\n",
    "plt.axis(\"off\")\n",
    "plt.title(f\"Labeled as {y[i]}\")\n",
    "\n",
    "plt.show()"
   ]
  },
  {
   "cell_type": "code",
   "execution_count": 16,
   "metadata": {},
   "outputs": [],
   "source": [
    "XTrain, XTest, yTrain, yTest = X[:60000], X[60000:], y[:60000], y[60000:]"
   ]
  },
  {
   "cell_type": "code",
   "execution_count": 17,
   "metadata": {},
   "outputs": [],
   "source": [
    "shuffleIndeces = np.random.permutation(60000)\n",
    "XTrain, yTrain = XTrain[shuffleIndeces], yTrain[shuffleIndeces]"
   ]
  },
  {
   "cell_type": "code",
   "execution_count": 18,
   "metadata": {},
   "outputs": [
    {
     "name": "stderr",
     "output_type": "stream",
     "text": [
      "/usr/lib/python3/dist-packages/sklearn/utils/validation.py:475: DataConversionWarning: Data with input dtype uint8 was converted to float64 by StandardScaler.\n",
      "  warnings.warn(msg, DataConversionWarning)\n"
     ]
    }
   ],
   "source": [
    "pipe = Pipeline([ ('stdScaler', StandardScaler()) ])\n",
    "prepTrain = pipe.fit_transform( XTrain )"
   ]
  },
  {
   "cell_type": "code",
   "execution_count": null,
   "metadata": {},
   "outputs": [
    {
     "name": "stdout",
     "output_type": "stream",
     "text": [
      "Fitting 5 folds for each of 10 candidates, totalling 50 fits\n",
      "[CV] n_neighbors=3, weights=uniform ..................................\n"
     ]
    }
   ],
   "source": [
    "params = { \"weights\" : [\"uniform\", \"distance\"],\n",
    "           \"n_neighbors\": [ 3, 4, 5, 6, 7 ] }\n",
    "\n",
    "knn = KNeighborsClassifier()\n",
    "\n",
    "gridKNN = GridSearchCV( knn, params, cv = 5, verbose = 3, n_jobs = 1 )\n",
    "gridKNN.fit(prepTrain, yTrain)"
   ]
  },
  {
   "cell_type": "code",
   "execution_count": null,
   "metadata": {},
   "outputs": [],
   "source": [
    "gridKNN.best_score_"
   ]
  },
  {
   "cell_type": "code",
   "execution_count": null,
   "metadata": {},
   "outputs": [],
   "source": [
    "gridKNN.best_params_"
   ]
  },
  {
   "cell_type": "code",
   "execution_count": null,
   "metadata": {},
   "outputs": [],
   "source": [
    "pred = gridKNN.predict(XTest)\n",
    "accuracy_score(yTest, pred)"
   ]
  },
  {
   "cell_type": "markdown",
   "metadata": {},
   "source": [
    "## Shift the images by one pixel"
   ]
  },
  {
   "cell_type": "code",
   "execution_count": null,
   "metadata": {},
   "outputs": [],
   "source": [
    "def shiftImages( X, y ):\n",
    "    \"\"\"Augments the data by adding copies of each image shifted one pixel\n",
    "       in each direction. Returns new shuffled arrays.\"\"\"\n",
    "\n",
    "    m, n = X.shape\n",
    "\n",
    "    tmp = X.reshape( (m, np.sqrt(n), np.sqrt(n)) )\n",
    "\n",
    "    newX = np.zeros( shape = (5*m, n ) )\n",
    "    newY = np.zeros( shape = y.shape )\n",
    "\n",
    "    newX[ : m] = X[:]\n",
    "    newY[ : m] = y[:]\n",
    "    newX[m : 2*m] = np.roll(tmp, 1, 1).reshape(m,n)\n",
    "    newY[m : 2*m] = y[:]\n",
    "    newX[2*m : 3*m] = np.roll(tmp, 1, -1).reshape(m,n)\n",
    "    newY[2*m : 3*m] = y[:]\n",
    "    newX[3*m : 4*m] = np.roll(tmp, 2, 1).reshape(m,n)\n",
    "    newY[3*m : 4*m] = y[:]\n",
    "    newX[4*m : 5*m] = np.roll(tmp, 2, -1).reshape(m,n)\n",
    "    newY[4*m : 5*m] = y[:]\n",
    "\n",
    "    shuffleIndeces = np.random.permutation( len(newX) )\n",
    "\n",
    "    return newX[shuffleIndeces], newY[shuffleIndeces]\n"
   ]
  },
  {
   "cell_type": "code",
   "execution_count": null,
   "metadata": {},
   "outputs": [],
   "source": [
    "XShifted, yShifted = shiftImages( XTrain, yTrain )\n",
    "\n",
    "knn = KNeighborsClassifier( **gridKNN.best_params_ )\n",
    "knn.fit( XShifted, yShifted )\n",
    "\n",
    "pred = knn.predict(XTest)\n",
    "accuracy_score(yTest, pred)"
   ]
  }
 ],
 "metadata": {
  "kernelspec": {
   "display_name": "Python 3",
   "language": "python",
   "name": "python3"
  },
  "language_info": {
   "codemirror_mode": {
    "name": "ipython",
    "version": 3
   },
   "file_extension": ".py",
   "mimetype": "text/x-python",
   "name": "python",
   "nbconvert_exporter": "python",
   "pygments_lexer": "ipython3",
   "version": "3.6.5"
  }
 },
 "nbformat": 4,
 "nbformat_minor": 2
}
