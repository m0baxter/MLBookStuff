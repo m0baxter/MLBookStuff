{
 "cells": [
  {
   "cell_type": "markdown",
   "metadata": {},
   "source": [
    "# CNN MNIST Classifier"
   ]
  },
  {
   "cell_type": "code",
   "execution_count": 1,
   "metadata": {},
   "outputs": [],
   "source": [
    "import time\n",
    "import numpy as np\n",
    "import tensorflow as tf\n",
    "\n",
    "from scipy.stats import reciprocal\n",
    "\n",
    "from sklearn.datasets import fetch_mldata\n",
    "from sklearn.model_selection import train_test_split, KFold\n",
    "\n",
    "from utils import *"
   ]
  },
  {
   "cell_type": "markdown",
   "metadata": {},
   "source": [
    "## Load the data\n",
    "\n",
    "Split training and test sets."
   ]
  },
  {
   "cell_type": "code",
   "execution_count": 2,
   "metadata": {},
   "outputs": [],
   "source": [
    "mnist = fetch_mldata( \"MNIST original\" )\n",
    "trainX, testX, trainY, testY = train_test_split( mnist.data, mnist.target,\n",
    "                                                 test_size = 10000,\n",
    "                                                 random_state = 123 )\n",
    "\n",
    "trainX = trainX.reshape( (len(trainX), 28, 28, 1) )/255\n",
    "testX  = testX.reshape(  (len(testX),  28, 28, 1) )/255"
   ]
  },
  {
   "cell_type": "markdown",
   "metadata": {},
   "source": [
    "# Tune the model\n",
    "\n",
    "Search for a good combinaton of hyperparameters."
   ]
  },
  {
   "cell_type": "code",
   "execution_count": 4,
   "metadata": {
    "scrolled": true
   },
   "outputs": [
    {
     "name": "stdout",
     "output_type": "stream",
     "text": [
      "Done    1 of   40 in 151.3s Validation loss: 3.1330945\n",
      "Done    2 of   40 in 177.6s Validation loss: 0.078608364\n",
      "Done    3 of   40 in 107.1s Validation loss: 13.727811\n",
      "Done    4 of   40 in 146.7s Validation loss: 264.87567\n",
      "Done    5 of   40 in 151.5s Validation loss: 1.6981144\n",
      "Done    6 of   40 in 152.0s Validation loss: 2.3037796\n",
      "Done    7 of   40 in 152.1s Validation loss: 2.3014088\n",
      "Done    8 of   40 in 84.9s Validation loss: 3.094801\n",
      "Done    9 of   40 in 174.7s Validation loss: 2.3715794\n",
      "Done   10 of   40 in 129.8s Validation loss: 0.09434525\n",
      "Done   11 of   40 in 105.5s Validation loss: 220.14868\n",
      "Done   12 of   40 in 82.6s Validation loss: 1.4671618\n",
      "Done   13 of   40 in 306.5s Validation loss: 3.79969\n",
      "Done   14 of   40 in 93.7s Validation loss: 44.96826\n",
      "Done   15 of   40 in 132.0s Validation loss: 0.07902262\n",
      "Done   16 of   40 in 373.7s Validation loss: 2.4021597\n",
      "Done   17 of   40 in 107.0s Validation loss: 0.085625835\n",
      "Done   18 of   40 in 125.9s Validation loss: 1.0737064\n",
      "Done   19 of   40 in 94.0s Validation loss: 2.2828176\n",
      "Done   20 of   40 in 148.6s Validation loss: 0.95676327\n",
      "Done   21 of   40 in 158.9s Validation loss: 2.304985\n",
      "Done   22 of   40 in 200.5s Validation loss: 0.071774684\n",
      "Done   23 of   40 in 195.8s Validation loss: 0.07794434\n",
      "Done   24 of   40 in 193.8s Validation loss: 2.3256793\n",
      "Done   25 of   40 in 147.2s Validation loss: 2.5434625\n",
      "Done   26 of   40 in 120.1s Validation loss: 2.3025\n",
      "Done   27 of   40 in 156.9s Validation loss: 0.12684359\n",
      "Done   28 of   40 in 121.9s Validation loss: 0.39020362\n",
      "Done   29 of   40 in 70.9s Validation loss: 179.47063\n",
      "Done   30 of   40 in 235.3s Validation loss: 1.5197549\n",
      "Done   31 of   40 in 196.0s Validation loss: 2.3019903\n",
      "Done   32 of   40 in 325.3s Validation loss: 2.3158338\n",
      "Done   33 of   40 in 227.6s Validation loss: 2.871403\n",
      "Done   34 of   40 in 191.7s Validation loss: 2.3024995\n",
      "Done   35 of   40 in 135.7s Validation loss: 0.29740453\n",
      "Done   36 of   40 in 149.8s Validation loss: 2.4419382\n",
      "Done   37 of   40 in 171.5s Validation loss: 0.82192826\n",
      "Done   38 of   40 in 106.3s Validation loss: 121.22644\n",
      "Done   39 of   40 in 132.1s Validation loss: 2.2641\n",
      "Done   40 of   40 in 103.9s Validation loss: 1.5232211\n",
      "\n",
      "***\n",
      "Final model validation accuracy: 0.9826\n",
      "***\n",
      "\n",
      "\n",
      "\n",
      "Lowest validation loss: 0.0597586\n",
      "Best parameters found: {'params': {'alpha': 0.0184765905596971, 'b2': 0.9999, 'b1': 0.99}, 'batchSize': 1024}\n"
     ]
    }
   ],
   "source": [
    "nines = [ 0.9, 0.99, 0.999, 0.9999 ]\n",
    "sizes = [ 128, 256, 512, 1024, 2048 ]\n",
    "\n",
    "paramsList = []\n",
    "\n",
    "for _ in range(40):\n",
    "    b1 = float(np.random.choice( nines ))\n",
    "    b2 = float(np.random.choice( nines ))\n",
    "    #b3 = float(np.random.choice( nines ))\n",
    "    n  = int(np.random.choice( sizes ))\n",
    "    l = reciprocal.rvs( 0.01, 0.5 )\n",
    "    \n",
    "    #paramsList.append( { \"batchSize\" : n, \"params\" : { \"alpha\" : l, \"b1\" : b1, \"b2\" : b2, \"bnm\" : b3 } } )\n",
    "    paramsList.append( { \"batchSize\" : n, \"params\" : { \"alpha\" : l, \"b1\" : b1, \"b2\" : b2 } } )\n",
    "\n",
    "loVal, trHist, vlHist, bestParams = hyperparameterSearch( trainX, trainY, paramsList, 3 )\n",
    "\n",
    "print( \"\\n\\nLowest validation loss:\", loVal )\n",
    "print( \"Best parameters found:\", bestParams )"
   ]
  },
  {
   "cell_type": "code",
   "execution_count": 6,
   "metadata": {},
   "outputs": [
    {
     "name": "stdout",
     "output_type": "stream",
     "text": [
      "{'params': {'alpha': 0.04549807220584517, 'b2': 0.9999, 'b1': 0.9}, 'batchSize': 512}\n",
      "{'params': {'alpha': 0.011342429919674662, 'b2': 0.9999, 'b1': 0.99}, 'batchSize': 256}\n",
      "{'params': {'alpha': 0.011740934371818444, 'b2': 0.999, 'b1': 0.99}, 'batchSize': 512}\n",
      "{'params': {'alpha': 0.01553539882204862, 'b2': 0.9, 'b1': 0.9}, 'batchSize': 1024}\n",
      "{'params': {'alpha': 0.0184765905596971, 'b2': 0.9999, 'b1': 0.99}, 'batchSize': 1024}\n",
      "{'params': {'alpha': 0.03070517460660552, 'b2': 0.999, 'b1': 0.9}, 'batchSize': 2048}\n"
     ]
    }
   ],
   "source": [
    "for i in [ 1, 9, 14, 16, 21, 22 ]:\n",
    "    print( paramsList[i] )"
   ]
  },
  {
   "cell_type": "markdown",
   "metadata": {},
   "source": [
    "# Plot learning curves\n",
    "\n",
    "Plots of the training and validation loss as functions of the epoch number."
   ]
  },
  {
   "cell_type": "code",
   "execution_count": 5,
   "metadata": {},
   "outputs": [
    {
     "data": {
      "image/png": "[encoded data removed]",
      "text/plain": [
       "<matplotlib.figure.Figure at 0x7fbefcce9a90>"
      ]
     },
     "metadata": {},
     "output_type": "display_data"
    }
   ],
   "source": [
    "%matplotlib inline\n",
    "import matplotlib\n",
    "import matplotlib.pyplot as plt\n",
    "\n",
    "fig = plt.figure( 1, (9, 7) )\n",
    "\n",
    "plt.plot( trHist[:], label = \"training\" )\n",
    "plt.plot( vlHist[:], label = \"validation\" )\n",
    "\n",
    "plt.xlim( xmin = 0, xmax = len(trHist) - 1 )\n",
    "plt.ylim( ymin = 0, ymax = np.max(vlHist[1:]) + .1 * max(trHist[1], vlHist[1]) )\n",
    "\n",
    "plt.xlabel(\"Epoch\")\n",
    "plt.ylabel(\"Loss\")\n",
    "\n",
    "plt.legend( loc = \"best\" )\n",
    "\n",
    "plt.show()\n",
    "\n",
    "#fig.savefig( \"learning-LeNet5.eps\", format = 'eps', dpi = 20000, bbox_inches = 'tight' )"
   ]
  },
  {
   "cell_type": "markdown",
   "metadata": {},
   "source": [
    "# Evaluate\n",
    "\n",
    "Check the performance on the test set."
   ]
  },
  {
   "cell_type": "code",
   "execution_count": 7,
   "metadata": {},
   "outputs": [
    {
     "name": "stdout",
     "output_type": "stream",
     "text": [
      "INFO:tensorflow:Restoring parameters from ./best/mnist-best.ckpt\n",
      "\n",
      "\n",
      "Accuracy on test set: 0.9835\n"
     ]
    }
   ],
   "source": [
    "tf.reset_default_graph()\n",
    "\n",
    "X = tf.placeholder(tf.float32, shape = (None, 28, 28, 1), name = \"X\")\n",
    "y = tf.placeholder(tf.int32, shape = (None), name = \"y\")\n",
    "trn = tf.placeholder_with_default( False, shape = (), name = \"trn\" )\n",
    "\n",
    "loss, training, accuracy, lossSummary, init, saver = mnistCNN( X, y, trn, **(bestParams[\"params\"]) )\n",
    "\n",
    "with tf.Session() as sess:\n",
    "\n",
    "    saver.restore( sess, \"./best/mnist-best.ckpt\" )\n",
    "    testAcc = accuracy.eval( feed_dict = { X : testX, y : testY })\n",
    "\n",
    "    print( \"\\n\\nAccuracy on test set:\", testAcc )"
   ]
  },
  {
   "cell_type": "code",
   "execution_count": null,
   "metadata": {},
   "outputs": [],
   "source": []
  }
 ],
 "metadata": {
  "kernelspec": {
   "display_name": "Python 3",
   "language": "python",
   "name": "python3"
  },
  "language_info": {
   "codemirror_mode": {
    "name": "ipython",
    "version": 3
   },
   "file_extension": ".py",
   "mimetype": "text/x-python",
   "name": "python",
   "nbconvert_exporter": "python",
   "pygments_lexer": "ipython3",
   "version": "3.5.2"
  }
 },
 "nbformat": 4,
 "nbformat_minor": 2
}
