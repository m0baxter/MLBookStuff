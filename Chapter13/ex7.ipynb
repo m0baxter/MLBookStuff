{
 "cells": [
  {
   "cell_type": "code",
   "execution_count": null,
   "metadata": {},
   "outputs": [],
   "source": [
    "import time\n",
    "import numpy as np\n",
    "import tensorflow as tf\n",
    "\n",
    "from sklearn.datasets import fetch_mldata\n",
    "from sklearn.model_selection import train_test_split, KFold\n",
    "\n",
    "from utils import *"
   ]
  },
  {
   "cell_type": "code",
   "execution_count": null,
   "metadata": {},
   "outputs": [],
   "source": [
    "mnist = fetch_mldata( \"MNIST original\" )\n",
    "trainX, testX, trainY, testY = train_test_split( mnist.data, mnist.target, test_size = 10000,\n",
    "                                           random_state = 123 )\n",
    "\n",
    "trainX = trainX.reshape( (len(trainX), 28, 28, 1) )\n",
    "testX  = testX.reshape(  (len(testX),  28, 28, 1) )"
   ]
  },
  {
   "cell_type": "code",
   "execution_count": null,
   "metadata": {},
   "outputs": [],
   "source": [
    "nines = [ 0.9, 0.99, 0.999, 0.9999, 0.99999 ]\n",
    "sizes = [ 16 ] #[ 32, 64, 128, 256, 512, 1024 ]\n",
    "paramsList = [ { \"batchSize\" : n, \"params\" : { \"alpha\" : a, \"momentum\" : b1, \"bnm\" : b2 } } \\\n",
    "               for a in np.logspace(-4,-2, 5) for b1 in nines for b2 in nines for n in sizes ]\n",
    "\n",
    "loVal, trHist, vlHist, bestParams = hyperparameterSearch( trainX, trainY, paramsList, 3 )\n",
    "\n",
    "print(\"\\n\\nLowest validation loss:\", loVal)\n",
    "print(\"Best parameters found:\", bestParams )"
   ]
  },
  {
   "cell_type": "code",
   "execution_count": null,
   "metadata": {},
   "outputs": [],
   "source": [
    "fig = plt.figure( 1, (9, 7) )\n",
    "\n",
    "plt.plot( trHist[:], label = \"training\" )\n",
    "plt.plot( vlHist[:], label = \"validation\" )\n",
    "\n",
    "plt.xlim( xmin = 0, xmax = len(trHist) - 1 )\n",
    "plt.ylim( ymin = 0, ymax = max(trHist[1], vlHist[1]) + .5 )\n",
    "\n",
    "plt.xlabel(\"Epoch\")\n",
    "plt.ylabel(\"Loss\")\n",
    "\n",
    "plt.legend( loc = \"best\" )\n",
    "\n",
    "plt.show()\n",
    "\n",
    "#fig.savefig( \"learningBN.eps\", format = 'eps', dpi = 20000, bbox_inches = 'tight' )"
   ]
  },
  {
   "cell_type": "code",
   "execution_count": null,
   "metadata": {},
   "outputs": [],
   "source": [
    "tf.reset_default_graph()\n",
    "\n",
    "X = tf.placeholder(tf.float32, shape = (None, n), name = \"X\")\n",
    "y = tf.placeholder(tf.int32, shape = (None), naame = \"y\")\n",
    "trn = tf.placeholder_with_default( False, shape = (), name = \"trn\" )\n",
    "\n",
    "loss, training, accuracy, lossSummary, init, saver = mnistCNN( X, y, trn, **(bestParams[\"params\"]) )\n",
    "\n",
    "with tf.Session() as sess:\n",
    "\n",
    "    saver.restore( sess, \"./best/mnist-best.ckpt\" )\n",
    "    testAcc = accuracy.eval( feed_dict = { X : hTeX, y : hTeY })\n",
    "\n",
    "    print( \"Accuracy on test set:\", testAcc )"
   ]
  },
  {
   "cell_type": "code",
   "execution_count": null,
   "metadata": {},
   "outputs": [],
   "source": []
  }
 ],
 "metadata": {
  "kernelspec": {
   "display_name": "Python 3",
   "language": "python",
   "name": "python3"
  },
  "language_info": {
   "codemirror_mode": {
    "name": "ipython",
    "version": 3
   },
   "file_extension": ".py",
   "mimetype": "text/x-python",
   "name": "python",
   "nbconvert_exporter": "python",
   "pygments_lexer": "ipython3",
   "version": "3.6.5"
  }
 },
 "nbformat": 4,
 "nbformat_minor": 2
}
