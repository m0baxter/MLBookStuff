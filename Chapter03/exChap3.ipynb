{
 "cells": [
  {
   "cell_type": "markdown",
   "metadata": {},
   "source": [
    "# Classifiers"
   ]
  },
  {
   "cell_type": "code",
   "execution_count": 1,
   "metadata": {},
   "outputs": [],
   "source": [
    "import numpy as np\n",
    "import os\n",
    "%matplotlib inline\n",
    "import matplotlib\n",
    "import matplotlib.pyplot as plt\n",
    "\n",
    "from sklearn.neighbors import KNeighborsClassifier\n",
    "from sklearn.model_selection import GridSearchCV\n",
    "from sklearn.metrics import accuracy_score\n",
    "from sklearn.datasets import fetch_mldata\n",
    "from sklearn.pipeline import Pipeline\n",
    "from sklearn.preprocessing import MinMaxScaler"
   ]
  },
  {
   "cell_type": "markdown",
   "metadata": {},
   "source": [
    "## Load the MNIST data\n",
    "\n",
    "The server that Scikit Learn pulled this data from does not seem to exist anymore. The data was found from an alternate source then placed in the directory where Scikit would usually cache data sets."
   ]
  },
  {
   "cell_type": "code",
   "execution_count": 2,
   "metadata": {},
   "outputs": [],
   "source": [
    "mnist = fetch_mldata('MNIST original')\n",
    "X, y = mnist[\"data\"], mnist[\"target\"]"
   ]
  },
  {
   "cell_type": "code",
   "execution_count": 3,
   "metadata": {},
   "outputs": [
    {
     "name": "stdout",
     "output_type": "stream",
     "text": [
      "mldata.org dataset: mnist-original\n",
      "(70000, 784) (70000,)\n"
     ]
    }
   ],
   "source": [
    "print(mnist[\"DESCR\"])\n",
    "print(X.shape, y.shape)"
   ]
  },
  {
   "cell_type": "code",
   "execution_count": 4,
   "metadata": {},
   "outputs": [
    {
     "data": {
      "image/png": "[encoded data removed]",
      "text/plain": [
       "<Figure size 432x288 with 1 Axes>"
      ]
     },
     "metadata": {},
     "output_type": "display_data"
    }
   ],
   "source": [
    "i = np.random.randint(60000)\n",
    "\n",
    "some_digit = X[i]\n",
    "some_digit_image = some_digit.reshape(28, 28)\n",
    "plt.imshow(some_digit_image, cmap = matplotlib.cm.binary,\n",
    "           interpolation=\"nearest\")\n",
    "plt.axis(\"off\")\n",
    "plt.title(f\"Labeled as {y[i]}\")\n",
    "\n",
    "plt.show()"
   ]
  },
  {
   "cell_type": "code",
   "execution_count": 5,
   "metadata": {},
   "outputs": [],
   "source": [
    "XTrain, XTest, yTrain, yTest = X[:60000], X[60000:], y[:60000], y[60000:]"
   ]
  },
  {
   "cell_type": "code",
   "execution_count": 6,
   "metadata": {},
   "outputs": [],
   "source": [
    "shuffleIndeces = np.random.permutation(60000)\n",
    "XTrain, yTrain = XTrain[shuffleIndeces], yTrain[shuffleIndeces]"
   ]
  },
  {
   "cell_type": "code",
   "execution_count": 7,
   "metadata": {},
   "outputs": [],
   "source": [
    "pipe = Pipeline([ ('normalizer', MinMaxScaler()) ])\n",
    "prepTrain = pipe.fit_transform( XTrain.astype(np.float64) )"
   ]
  },
  {
   "cell_type": "code",
   "execution_count": 8,
   "metadata": {
    "scrolled": false
   },
   "outputs": [
    {
     "name": "stdout",
     "output_type": "stream",
     "text": [
      "Fitting 3 folds for each of 10 candidates, totalling 30 fits\n",
      "[CV] n_neighbors=3, weights=uniform ..................................\n",
      "[CV] n_neighbors=3, weights=uniform ..................................\n",
      "[CV] n_neighbors=3, weights=uniform ..................................\n",
      "[CV] n_neighbors=3, weights=distance .................................\n",
      "[CV]  n_neighbors=3, weights=uniform, score=0.9709485474273714, total=37.0min\n",
      "[CV] n_neighbors=3, weights=distance .................................\n",
      "[CV]  n_neighbors=3, weights=distance, score=0.9684563087382524, total=37.1min\n",
      "[CV] n_neighbors=3, weights=distance .................................\n",
      "[CV]  n_neighbors=3, weights=uniform, score=0.9674065186962607, total=37.4min\n",
      "[CV] n_neighbors=4, weights=uniform ..................................\n",
      "[CV]  n_neighbors=3, weights=uniform, score=0.9688953343001451, total=38.6min\n",
      "[CV] n_neighbors=4, weights=uniform ..................................\n",
      "[CV]  n_neighbors=3, weights=distance, score=0.9701955293293995, total=37.0min\n",
      "[CV] n_neighbors=4, weights=uniform ..................................\n",
      "[CV]  n_neighbors=3, weights=distance, score=0.9726486324316216, total=37.5min\n",
      "[CV] n_neighbors=4, weights=distance .................................\n",
      "[CV]  n_neighbors=4, weights=uniform, score=0.9658568286342731, total=37.4min\n",
      "[CV] n_neighbors=4, weights=distance .................................\n",
      "[CV]  n_neighbors=4, weights=uniform, score=0.9709485474273714, total=37.7min\n",
      "[CV] n_neighbors=4, weights=distance .................................\n",
      "[CV]  n_neighbors=4, weights=uniform, score=0.9671950792618893, total=37.0min\n",
      "[CV] n_neighbors=5, weights=uniform ..................................\n",
      "[CV]  n_neighbors=4, weights=distance, score=0.9700559888022395, total=37.1min\n",
      "[CV] n_neighbors=5, weights=uniform ..................................\n",
      "[CV]  n_neighbors=4, weights=distance, score=0.9736986849342467, total=37.4min\n",
      "[CV] n_neighbors=5, weights=uniform ..................................\n",
      "[CV]  n_neighbors=4, weights=distance, score=0.9716457468620293, total=38.7min\n",
      "[CV] n_neighbors=5, weights=distance .................................\n",
      "[CV]  n_neighbors=5, weights=uniform, score=0.9671065786842632, total=37.1min\n",
      "[CV] n_neighbors=5, weights=distance .................................\n",
      "[CV]  n_neighbors=5, weights=uniform, score=0.968595289293394, total=37.3min\n",
      "[CV] n_neighbors=5, weights=distance .................................\n",
      "[CV]  n_neighbors=5, weights=uniform, score=0.9706985349267463, total=37.9min\n",
      "[CV] n_neighbors=6, weights=uniform ..................................\n",
      "[CV]  n_neighbors=5, weights=distance, score=0.9682563487302539, total=37.7min\n",
      "[CV] n_neighbors=6, weights=uniform ..................................\n",
      "[CV]  n_neighbors=5, weights=distance, score=0.9725486274313716, total=37.1min\n",
      "[CV] n_neighbors=6, weights=uniform ..................................\n",
      "[CV]  n_neighbors=5, weights=distance, score=0.9699454918237735, total=37.4min\n",
      "[CV] n_neighbors=6, weights=distance .................................\n",
      "[CV]  n_neighbors=6, weights=uniform, score=0.9661567686462708, total=38.2min\n",
      "[CV] n_neighbors=6, weights=distance .................................\n",
      "[CV]  n_neighbors=6, weights=uniform, score=0.9690484524226212, total=37.7min\n",
      "[CV] n_neighbors=6, weights=distance .................................\n",
      "[CV]  n_neighbors=6, weights=uniform, score=0.9677451617742662, total=37.1min\n",
      "[CV] n_neighbors=7, weights=uniform ..................................\n",
      "[CV]  n_neighbors=6, weights=distance, score=0.9690561887622475, total=37.3min\n",
      "[CV] n_neighbors=7, weights=uniform ..................................\n",
      "[CV]  n_neighbors=6, weights=distance, score=0.9718985949297465, total=38.4min\n",
      "[CV] n_neighbors=7, weights=uniform ..................................\n",
      "[CV]  n_neighbors=6, weights=distance, score=0.9705455818372756, total=37.7min\n",
      "[CV] n_neighbors=7, weights=distance .................................\n",
      "[CV]  n_neighbors=7, weights=uniform, score=0.9662067586482703, total=37.1min\n",
      "[CV] n_neighbors=7, weights=distance .................................\n",
      "[CV]  n_neighbors=7, weights=uniform, score=0.9683984199209961, total=37.3min\n",
      "[CV] n_neighbors=7, weights=distance .................................\n",
      "[CV]  n_neighbors=7, weights=uniform, score=0.9674451167675151, total=37.4min\n",
      "[CV]  n_neighbors=7, weights=distance, score=0.9673065386922616, total=38.7min\n",
      "[CV]  n_neighbors=7, weights=distance, score=0.9693984699234962, total=26.2min\n",
      "[CV]  n_neighbors=7, weights=distance, score=0.9689453418012702, total=25.0min\n"
     ]
    },
    {
     "name": "stderr",
     "output_type": "stream",
     "text": [
      "[Parallel(n_jobs=4)]: Done  30 out of  30 | elapsed: 841.5min finished\n"
     ]
    },
    {
     "data": {
      "text/plain": [
       "GridSearchCV(cv=3, error_score='raise',\n",
       "       estimator=KNeighborsClassifier(algorithm='auto', leaf_size=30, metric='minkowski',\n",
       "           metric_params=None, n_jobs=1, n_neighbors=5, p=2,\n",
       "           weights='uniform'),\n",
       "       fit_params=None, iid=True, n_jobs=4,\n",
       "       param_grid={'weights': ['uniform', 'distance'], 'n_neighbors': [3, 4, 5, 6, 7]},\n",
       "       pre_dispatch='2*n_jobs', refit=True, return_train_score='warn',\n",
       "       scoring=None, verbose=3)"
      ]
     },
     "execution_count": 8,
     "metadata": {},
     "output_type": "execute_result"
    }
   ],
   "source": [
    "params = { \"weights\" : [\"uniform\", \"distance\"],\n",
    "           \"n_neighbors\": [ 3, 4, 5, 6, 7 ] }\n",
    "\n",
    "knn = KNeighborsClassifier()\n",
    "\n",
    "gridKNN = GridSearchCV( knn, params, cv = 3, verbose = 3, n_jobs = 3 )\n",
    "gridKNN.fit(prepTrain, yTrain)"
   ]
  },
  {
   "cell_type": "code",
   "execution_count": 9,
   "metadata": {},
   "outputs": [
    {
     "data": {
      "text/plain": [
       "0.9718"
      ]
     },
     "execution_count": 9,
     "metadata": {},
     "output_type": "execute_result"
    }
   ],
   "source": [
    "gridKNN.best_score_"
   ]
  },
  {
   "cell_type": "code",
   "execution_count": 10,
   "metadata": {},
   "outputs": [
    {
     "data": {
      "text/plain": [
       "{'n_neighbors': 4, 'weights': 'distance'}"
      ]
     },
     "execution_count": 10,
     "metadata": {},
     "output_type": "execute_result"
    }
   ],
   "source": [
    "gridKNN.best_params_"
   ]
  },
  {
   "cell_type": "code",
   "execution_count": 9,
   "metadata": {},
   "outputs": [
    {
     "data": {
      "text/plain": [
       "0.9714"
      ]
     },
     "execution_count": 9,
     "metadata": {},
     "output_type": "execute_result"
    }
   ],
   "source": [
    "gridKNN = KNeighborsClassifier( n_neighbors = 4, weights = 'distance' )\n",
    "gridKNN.fit( prepTrain, yTrain )\n",
    "\n",
    "pred = gridKNN.predict(pipe.transform( XTest.astype(np.float64)) )\n",
    "accuracy_score(yTest, pred)"
   ]
  },
  {
   "cell_type": "markdown",
   "metadata": {},
   "source": [
    "## Shift the images by one pixel"
   ]
  },
  {
   "cell_type": "code",
   "execution_count": 10,
   "metadata": {},
   "outputs": [],
   "source": [
    "def shiftImages( X, y ):\n",
    "    \"\"\"Augments the data by adding copies of each image shifted one pixel\n",
    "       in each direction. Returns new shuffled arrays.\"\"\"\n",
    "\n",
    "    m, n = X.shape\n",
    "\n",
    "    tmp = X.reshape( (m, int(np.sqrt(n)), int(np.sqrt(n)) ) )\n",
    "\n",
    "    newX = np.zeros( shape = (5*m, n ) )\n",
    "    newY = np.zeros( 5*m )\n",
    "\n",
    "    newX[ : m] = X[:]\n",
    "    newY[ : m] = y[:]\n",
    "    newX[m : 2*m] = np.roll(tmp, 1, 1).reshape(m,n)[:]\n",
    "    newY[m : 2*m] = y[:]\n",
    "    newX[2*m : 3*m] = np.roll(tmp, 1, 1).reshape(m,n)[:]\n",
    "    newY[2*m : 3*m] = y[:]\n",
    "    newX[3*m : 4*m] = np.roll(tmp, -1, 2).reshape(m,n)[:]\n",
    "    newY[3*m : 4*m] = y[:]\n",
    "    newX[4*m : 5*m] = np.roll(tmp, -1, 2).reshape(m,n)[:]\n",
    "    newY[4*m : 5*m] = y[:]\n",
    "\n",
    "    shuffleIndeces = np.random.permutation( len(newX) )\n",
    "\n",
    "    return newX[shuffleIndeces], newY[shuffleIndeces]\n"
   ]
  },
  {
   "cell_type": "code",
   "execution_count": 11,
   "metadata": {},
   "outputs": [
    {
     "data": {
      "text/plain": [
       "0.9705"
      ]
     },
     "execution_count": 11,
     "metadata": {},
     "output_type": "execute_result"
    }
   ],
   "source": [
    "prepTrain, yTrain = shiftImages( prepTrain, yTrain )\n",
    "\n",
    "#knn = KNeighborsClassifier( **gridKNN.best_params_ )\n",
    "knn = KNeighborsClassifier( n_neighbors = 4, weights = 'distance' )\n",
    "knn.fit( prepTrain, yTrain )\n",
    "\n",
    "pred = knn.predict( pipe.transform( XTest.astype(np.float64)) )\n",
    "accuracy_score(yTest, pred)"
   ]
  },
  {
   "cell_type": "code",
   "execution_count": null,
   "metadata": {},
   "outputs": [],
   "source": []
  }
 ],
 "metadata": {
  "kernelspec": {
   "display_name": "Python 3",
   "language": "python",
   "name": "python3"
  },
  "language_info": {
   "codemirror_mode": {
    "name": "ipython",
    "version": 3
   },
   "file_extension": ".py",
   "mimetype": "text/x-python",
   "name": "python",
   "nbconvert_exporter": "python",
   "pygments_lexer": "ipython3",
   "version": "3.6.5"
  }
 },
 "nbformat": 4,
 "nbformat_minor": 2
}
