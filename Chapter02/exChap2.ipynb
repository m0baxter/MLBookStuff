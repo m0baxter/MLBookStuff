{
 "cells": [
  {
   "cell_type": "code",
   "execution_count": 1,
   "metadata": {},
   "outputs": [],
   "source": [
    "from functions import *\n",
    "import numpy as np\n",
    "from sklearn.model_selection import StratifiedShuffleSplit\n",
    "from sklearn.pipeline import Pipeline, FeatureUnion\n",
    "from sklearn.preprocessing import StandardScaler, Imputer, OneHotEncoder"
   ]
  },
  {
   "cell_type": "markdown",
   "metadata": {},
   "source": [
    "## Retrieve and load the data"
   ]
  },
  {
   "cell_type": "code",
   "execution_count": 2,
   "metadata": {},
   "outputs": [],
   "source": [
    "getHousingData( url = HOUSING_URL, path = HOUSING_PATH )"
   ]
  },
  {
   "cell_type": "code",
   "execution_count": 3,
   "metadata": {},
   "outputs": [
    {
     "data": {
      "text/html": [
       "<div>\n",
       "<style scoped>\n",
       "    .dataframe tbody tr th:only-of-type {\n",
       "        vertical-align: middle;\n",
       "    }\n",
       "\n",
       "    .dataframe tbody tr th {\n",
       "        vertical-align: top;\n",
       "    }\n",
       "\n",
       "    .dataframe thead th {\n",
       "        text-align: right;\n",
       "    }\n",
       "</style>\n",
       "<table border=\"1\" class=\"dataframe\">\n",
       "  <thead>\n",
       "    <tr style=\"text-align: right;\">\n",
       "      <th></th>\n",
       "      <th>longitude</th>\n",
       "      <th>latitude</th>\n",
       "      <th>housing_median_age</th>\n",
       "      <th>total_rooms</th>\n",
       "      <th>total_bedrooms</th>\n",
       "      <th>population</th>\n",
       "      <th>households</th>\n",
       "      <th>median_income</th>\n",
       "      <th>median_house_value</th>\n",
       "      <th>ocean_proximity</th>\n",
       "    </tr>\n",
       "  </thead>\n",
       "  <tbody>\n",
       "    <tr>\n",
       "      <th>0</th>\n",
       "      <td>-122.23</td>\n",
       "      <td>37.88</td>\n",
       "      <td>41.0</td>\n",
       "      <td>880.0</td>\n",
       "      <td>129.0</td>\n",
       "      <td>322.0</td>\n",
       "      <td>126.0</td>\n",
       "      <td>8.3252</td>\n",
       "      <td>452600.0</td>\n",
       "      <td>0</td>\n",
       "    </tr>\n",
       "    <tr>\n",
       "      <th>1</th>\n",
       "      <td>-122.22</td>\n",
       "      <td>37.86</td>\n",
       "      <td>21.0</td>\n",
       "      <td>7099.0</td>\n",
       "      <td>1106.0</td>\n",
       "      <td>2401.0</td>\n",
       "      <td>1138.0</td>\n",
       "      <td>8.3014</td>\n",
       "      <td>358500.0</td>\n",
       "      <td>0</td>\n",
       "    </tr>\n",
       "    <tr>\n",
       "      <th>2</th>\n",
       "      <td>-122.24</td>\n",
       "      <td>37.85</td>\n",
       "      <td>52.0</td>\n",
       "      <td>1467.0</td>\n",
       "      <td>190.0</td>\n",
       "      <td>496.0</td>\n",
       "      <td>177.0</td>\n",
       "      <td>7.2574</td>\n",
       "      <td>352100.0</td>\n",
       "      <td>0</td>\n",
       "    </tr>\n",
       "    <tr>\n",
       "      <th>3</th>\n",
       "      <td>-122.25</td>\n",
       "      <td>37.85</td>\n",
       "      <td>52.0</td>\n",
       "      <td>1274.0</td>\n",
       "      <td>235.0</td>\n",
       "      <td>558.0</td>\n",
       "      <td>219.0</td>\n",
       "      <td>5.6431</td>\n",
       "      <td>341300.0</td>\n",
       "      <td>0</td>\n",
       "    </tr>\n",
       "    <tr>\n",
       "      <th>4</th>\n",
       "      <td>-122.25</td>\n",
       "      <td>37.85</td>\n",
       "      <td>52.0</td>\n",
       "      <td>1627.0</td>\n",
       "      <td>280.0</td>\n",
       "      <td>565.0</td>\n",
       "      <td>259.0</td>\n",
       "      <td>3.8462</td>\n",
       "      <td>342200.0</td>\n",
       "      <td>0</td>\n",
       "    </tr>\n",
       "  </tbody>\n",
       "</table>\n",
       "</div>"
      ],
      "text/plain": [
       "   longitude  latitude  housing_median_age  total_rooms  total_bedrooms  \\\n",
       "0    -122.23     37.88                41.0        880.0           129.0   \n",
       "1    -122.22     37.86                21.0       7099.0          1106.0   \n",
       "2    -122.24     37.85                52.0       1467.0           190.0   \n",
       "3    -122.25     37.85                52.0       1274.0           235.0   \n",
       "4    -122.25     37.85                52.0       1627.0           280.0   \n",
       "\n",
       "   population  households  median_income  median_house_value  ocean_proximity  \n",
       "0       322.0       126.0         8.3252            452600.0                0  \n",
       "1      2401.0      1138.0         8.3014            358500.0                0  \n",
       "2       496.0       177.0         7.2574            352100.0                0  \n",
       "3       558.0       219.0         5.6431            341300.0                0  \n",
       "4       565.0       259.0         3.8462            342200.0                0  "
      ]
     },
     "execution_count": 3,
     "metadata": {},
     "output_type": "execute_result"
    }
   ],
   "source": [
    "housing = loadData()\n",
    "housing['ocean_proximity'], categories = housing['ocean_proximity'].factorize()\n",
    "\n",
    "housing.head()"
   ]
  },
  {
   "cell_type": "markdown",
   "metadata": {},
   "source": [
    "## Make a training/test split"
   ]
  },
  {
   "cell_type": "code",
   "execution_count": 4,
   "metadata": {},
   "outputs": [],
   "source": [
    "#Divide by 1.5 to limit the number of income categories\n",
    "housing[\"income_cat\"] = np.ceil(housing[\"median_income\"] / 1.5)\n",
    "\n",
    "#Label those above 5 as 5\n",
    "housing[\"income_cat\"].where( housing[\"income_cat\"] < 5, 5.0, inplace = True )\n",
    "\n",
    "split = StratifiedShuffleSplit( n_splits = 1, test_size = 0.2, random_state = 42 )\n",
    "for trainIndex, testIndex in split.split( housing, housing[\"income_cat\"] ):\n",
    "    trainSet = housing.loc[trainIndex]\n",
    "    testSet = housing.loc[testIndex]"
   ]
  },
  {
   "cell_type": "code",
   "execution_count": 5,
   "metadata": {},
   "outputs": [],
   "source": [
    "for set_ in ( trainSet, testSet):\n",
    "    set_.drop(\"income_cat\", axis=1, inplace=True)\n",
    "    \n",
    "trainLabels = trainSet[\"median_house_value\"].copy()\n",
    "testLabels = testSet[\"median_house_value\"].copy()"
   ]
  },
  {
   "cell_type": "markdown",
   "metadata": {},
   "source": [
    "## Define pipeline"
   ]
  },
  {
   "cell_type": "code",
   "execution_count": 6,
   "metadata": {},
   "outputs": [],
   "source": [
    "housing_num = testSet.drop('ocean_proximity', axis=1)\n",
    "num_attribs = list(housing_num)\n",
    "cat_attribs = [\"ocean_proximity\"]\n",
    "\n",
    "numPipeline = Pipeline([ ('selector', DataFrameSelector(num_attribs)),\n",
    "                         ('imputer', Imputer(strategy=\"median\")),\n",
    "                         ('attribsAdder', CombinedAttributesAdder()),\n",
    "                         ('stdScaler', StandardScaler()), ])\n",
    "\n",
    "catPipeline = Pipeline( [ ('selector', DataFrameSelector(cat_attribs)),\n",
    "                          ('catEncoder', OneHotEncoder(sparse = False)), ])\n",
    "\n",
    "fullPipeline = FeatureUnion( transformer_list = [ (\"numPipeline\", numPipeline),\n",
    "                                                  (\"catPipeline\", catPipeline), ] )"
   ]
  },
  {
   "cell_type": "code",
   "execution_count": 7,
   "metadata": {},
   "outputs": [],
   "source": [
    "prepTrain = fullPipeline.fit_transform(trainSet)"
   ]
  },
  {
   "cell_type": "code",
   "execution_count": null,
   "metadata": {
    "scrolled": true
   },
   "outputs": [
    {
     "name": "stdout",
     "output_type": "stream",
     "text": [
      "Fitting 5 folds for each of 50 candidates, totalling 250 fits\n",
      "[CV] C=23.3118894003, gamma=0.639967336193, kernel=linear ............\n",
      "[CV]  C=23.3118894003, gamma=0.639967336193, kernel=linear, total= 8.4min\n",
      "[CV] C=23.3118894003, gamma=0.639967336193, kernel=linear ............\n"
     ]
    },
    {
     "name": "stderr",
     "output_type": "stream",
     "text": [
      "[Parallel(n_jobs=1)]: Done   1 out of   1 | elapsed:  8.5min remaining:    0.0s\n"
     ]
    },
    {
     "name": "stdout",
     "output_type": "stream",
     "text": [
      "[CV]  C=23.3118894003, gamma=0.639967336193, kernel=linear, total= 8.5min\n",
      "[CV] C=23.3118894003, gamma=0.639967336193, kernel=linear ............\n",
      "[CV]  C=23.3118894003, gamma=0.639967336193, kernel=linear, total= 9.1min\n",
      "[CV] C=23.3118894003, gamma=0.639967336193, kernel=linear ............\n",
      "[CV]  C=23.3118894003, gamma=0.639967336193, kernel=linear, total= 8.2min\n",
      "[CV] C=23.3118894003, gamma=0.639967336193, kernel=linear ............\n",
      "[CV]  C=23.3118894003, gamma=0.639967336193, kernel=linear, total= 6.4min\n",
      "[CV] C=57.7588881314, gamma=0.163357422105, kernel=linear ............\n",
      "[CV]  C=57.7588881314, gamma=0.163357422105, kernel=linear, total=10.9min\n",
      "[CV] C=57.7588881314, gamma=0.163357422105, kernel=linear ............\n",
      "[CV]  C=57.7588881314, gamma=0.163357422105, kernel=linear, total=11.3min\n",
      "[CV] C=57.7588881314, gamma=0.163357422105, kernel=linear ............\n",
      "[CV]  C=57.7588881314, gamma=0.163357422105, kernel=linear, total=11.7min\n",
      "[CV] C=57.7588881314, gamma=0.163357422105, kernel=linear ............\n",
      "[CV]  C=57.7588881314, gamma=0.163357422105, kernel=linear, total=10.9min\n",
      "[CV] C=57.7588881314, gamma=0.163357422105, kernel=linear ............\n",
      "[CV]  C=57.7588881314, gamma=0.163357422105, kernel=linear, total=11.1min\n",
      "[CV] C=34.9491168441, gamma=0.201303659105, kernel=linear ............\n",
      "[CV]  C=34.9491168441, gamma=0.201303659105, kernel=linear, total=12.7min\n",
      "[CV] C=34.9491168441, gamma=0.201303659105, kernel=linear ............\n",
      "[CV]  C=34.9491168441, gamma=0.201303659105, kernel=linear, total=12.8min\n",
      "[CV] C=34.9491168441, gamma=0.201303659105, kernel=linear ............\n",
      "[CV]  C=34.9491168441, gamma=0.201303659105, kernel=linear, total=12.5min\n",
      "[CV] C=34.9491168441, gamma=0.201303659105, kernel=linear ............\n",
      "[CV]  C=34.9491168441, gamma=0.201303659105, kernel=linear, total=14.0min\n",
      "[CV] C=34.9491168441, gamma=0.201303659105, kernel=linear ............\n",
      "[CV]  C=34.9491168441, gamma=0.201303659105, kernel=linear, total=11.5min\n",
      "[CV] C=70820.41113, gamma=1.39679046902, kernel=rbf ..................\n",
      "[CV] ... C=70820.41113, gamma=1.39679046902, kernel=rbf, total= 9.2min\n",
      "[CV] C=70820.41113, gamma=1.39679046902, kernel=rbf ..................\n",
      "[CV] ... C=70820.41113, gamma=1.39679046902, kernel=rbf, total= 9.4min\n",
      "[CV] C=70820.41113, gamma=1.39679046902, kernel=rbf ..................\n",
      "[CV] ... C=70820.41113, gamma=1.39679046902, kernel=rbf, total= 9.0min\n",
      "[CV] C=70820.41113, gamma=1.39679046902, kernel=rbf ..................\n",
      "[CV] ... C=70820.41113, gamma=1.39679046902, kernel=rbf, total= 8.7min\n",
      "[CV] C=70820.41113, gamma=1.39679046902, kernel=rbf ..................\n",
      "[CV] ... C=70820.41113, gamma=1.39679046902, kernel=rbf, total= 7.6min\n",
      "[CV] C=353.884240743, gamma=1.76053626592, kernel=linear .............\n",
      "[CV]  C=353.884240743, gamma=1.76053626592, kernel=linear, total= 7.1min\n",
      "[CV] C=353.884240743, gamma=1.76053626592, kernel=linear .............\n",
      "[CV]  C=353.884240743, gamma=1.76053626592, kernel=linear, total= 8.8min\n",
      "[CV] C=353.884240743, gamma=1.76053626592, kernel=linear .............\n",
      "[CV]  C=353.884240743, gamma=1.76053626592, kernel=linear, total=10.2min\n",
      "[CV] C=353.884240743, gamma=1.76053626592, kernel=linear .............\n",
      "[CV]  C=353.884240743, gamma=1.76053626592, kernel=linear, total= 8.4min\n",
      "[CV] C=353.884240743, gamma=1.76053626592, kernel=linear .............\n",
      "[CV]  C=353.884240743, gamma=1.76053626592, kernel=linear, total= 7.9min\n",
      "[CV] C=65.7762772624, gamma=2.88552488807, kernel=rbf ................\n",
      "[CV] . C=65.7762772624, gamma=2.88552488807, kernel=rbf, total=  18.9s\n",
      "[CV] C=65.7762772624, gamma=2.88552488807, kernel=rbf ................\n",
      "[CV] . C=65.7762772624, gamma=2.88552488807, kernel=rbf, total=  18.9s\n",
      "[CV] C=65.7762772624, gamma=2.88552488807, kernel=rbf ................\n",
      "[CV] . C=65.7762772624, gamma=2.88552488807, kernel=rbf, total=  18.9s\n",
      "[CV] C=65.7762772624, gamma=2.88552488807, kernel=rbf ................\n",
      "[CV] . C=65.7762772624, gamma=2.88552488807, kernel=rbf, total=  18.9s\n",
      "[CV] C=65.7762772624, gamma=2.88552488807, kernel=rbf ................\n",
      "[CV] . C=65.7762772624, gamma=2.88552488807, kernel=rbf, total=  18.9s\n",
      "[CV] C=264.18587195, gamma=0.473590502717, kernel=linear .............\n",
      "[CV]  C=264.18587195, gamma=0.473590502717, kernel=linear, total= 6.8min\n",
      "[CV] C=264.18587195, gamma=0.473590502717, kernel=linear .............\n",
      "[CV]  C=264.18587195, gamma=0.473590502717, kernel=linear, total= 8.7min\n",
      "[CV] C=264.18587195, gamma=0.473590502717, kernel=linear .............\n",
      "[CV]  C=264.18587195, gamma=0.473590502717, kernel=linear, total= 9.9min\n",
      "[CV] C=264.18587195, gamma=0.473590502717, kernel=linear .............\n",
      "[CV]  C=264.18587195, gamma=0.473590502717, kernel=linear, total= 8.6min\n",
      "[CV] C=264.18587195, gamma=0.473590502717, kernel=linear .............\n",
      "[CV]  C=264.18587195, gamma=0.473590502717, kernel=linear, total= 7.7min\n",
      "[CV] C=195748.074231, gamma=0.190243449291, kernel=rbf ...............\n",
      "[CV]  C=195748.074231, gamma=0.190243449291, kernel=rbf, total=119.8min\n",
      "[CV] C=195748.074231, gamma=0.190243449291, kernel=rbf ...............\n",
      "[CV]  C=195748.074231, gamma=0.190243449291, kernel=rbf, total=119.3min\n",
      "[CV] C=195748.074231, gamma=0.190243449291, kernel=rbf ...............\n",
      "[CV]  C=195748.074231, gamma=0.190243449291, kernel=rbf, total=121.1min\n",
      "[CV] C=195748.074231, gamma=0.190243449291, kernel=rbf ...............\n",
      "[CV]  C=195748.074231, gamma=0.190243449291, kernel=rbf, total=135.0min\n",
      "[CV] C=195748.074231, gamma=0.190243449291, kernel=rbf ...............\n",
      "[CV]  C=195748.074231, gamma=0.190243449291, kernel=rbf, total=124.1min\n",
      "[CV] C=323.091862029, gamma=4.22814875441, kernel=rbf ................\n",
      "[CV] . C=323.091862029, gamma=4.22814875441, kernel=rbf, total=  23.0s\n",
      "[CV] C=323.091862029, gamma=4.22814875441, kernel=rbf ................\n",
      "[CV] . C=323.091862029, gamma=4.22814875441, kernel=rbf, total=  23.0s\n",
      "[CV] C=323.091862029, gamma=4.22814875441, kernel=rbf ................\n",
      "[CV] . C=323.091862029, gamma=4.22814875441, kernel=rbf, total=  23.0s\n",
      "[CV] C=323.091862029, gamma=4.22814875441, kernel=rbf ................\n",
      "[CV] . C=323.091862029, gamma=4.22814875441, kernel=rbf, total=  22.9s\n",
      "[CV] C=323.091862029, gamma=4.22814875441, kernel=rbf ................\n",
      "[CV] . C=323.091862029, gamma=4.22814875441, kernel=rbf, total=  23.1s\n",
      "[CV] C=19834.1569609, gamma=0.924517208154, kernel=rbf ...............\n",
      "[CV]  C=19834.1569609, gamma=0.924517208154, kernel=rbf, total= 1.4min\n",
      "[CV] C=19834.1569609, gamma=0.924517208154, kernel=rbf ...............\n",
      "[CV]  C=19834.1569609, gamma=0.924517208154, kernel=rbf, total= 1.5min\n",
      "[CV] C=19834.1569609, gamma=0.924517208154, kernel=rbf ...............\n",
      "[CV]  C=19834.1569609, gamma=0.924517208154, kernel=rbf, total= 1.6min\n",
      "[CV] C=19834.1569609, gamma=0.924517208154, kernel=rbf ...............\n",
      "[CV]  C=19834.1569609, gamma=0.924517208154, kernel=rbf, total= 1.6min\n",
      "[CV] C=19834.1569609, gamma=0.924517208154, kernel=rbf ...............\n",
      "[CV]  C=19834.1569609, gamma=0.924517208154, kernel=rbf, total= 1.5min\n",
      "[CV] C=400.894569541, gamma=1.47008929793, kernel=linear .............\n",
      "[CV]  C=400.894569541, gamma=1.47008929793, kernel=linear, total= 7.0min\n",
      "[CV] C=400.894569541, gamma=1.47008929793, kernel=linear .............\n",
      "[CV]  C=400.894569541, gamma=1.47008929793, kernel=linear, total=11.4min\n",
      "[CV] C=400.894569541, gamma=1.47008929793, kernel=linear .............\n",
      "[CV]  C=400.894569541, gamma=1.47008929793, kernel=linear, total= 9.4min\n",
      "[CV] C=400.894569541, gamma=1.47008929793, kernel=linear .............\n",
      "[CV]  C=400.894569541, gamma=1.47008929793, kernel=linear, total= 9.4min\n",
      "[CV] C=400.894569541, gamma=1.47008929793, kernel=linear .............\n",
      "[CV]  C=400.894569541, gamma=1.47008929793, kernel=linear, total= 7.9min\n",
      "[CV] C=3784.14112947, gamma=0.192674680136, kernel=linear ............\n",
      "[CV]  C=3784.14112947, gamma=0.192674680136, kernel=linear, total= 6.0min\n",
      "[CV] C=3784.14112947, gamma=0.192674680136, kernel=linear ............\n"
     ]
    }
   ],
   "source": [
    "from sklearn.svm import SVR\n",
    "from sklearn.model_selection import RandomizedSearchCV\n",
    "from scipy.stats import expon, reciprocal\n",
    "\n",
    "svr = SVR()\n",
    "\n",
    "params = { \"kernel\" : [ \"linear\", \"rbf\" ],\n",
    "            \"C\" : reciprocal(20, 200000),\n",
    "            \"gamma\" : expon(scale=1.0)\n",
    "         }\n",
    "\n",
    "rndSearch = RandomizedSearchCV( svr, param_distributions = params,\n",
    "                                n_iter = 50, cv = 5, scoring='neg_mean_squared_error',\n",
    "                                verbose = 2, n_jobs = 1 ) #random_state=42))\n",
    "\n",
    "rndSearch.fit(prepTrain, trainLabels)"
   ]
  },
  {
   "cell_type": "code",
   "execution_count": null,
   "metadata": {},
   "outputs": [],
   "source": [
    "nmse = rndSearch.best_score_\n",
    "rmse = np.sqrt(-nmse)\n",
    "rmse"
   ]
  },
  {
   "cell_type": "code",
   "execution_count": null,
   "metadata": {},
   "outputs": [],
   "source": [
    "bestParams = rndSearch.best_params_\n",
    "importances = rndSearch.best_estimator_.feature_importances_"
   ]
  }
 ],
 "metadata": {
  "kernelspec": {
   "display_name": "Python 3",
   "language": "python",
   "name": "python3"
  },
  "language_info": {
   "codemirror_mode": {
    "name": "ipython",
    "version": 3
   },
   "file_extension": ".py",
   "mimetype": "text/x-python",
   "name": "python",
   "nbconvert_exporter": "python",
   "pygments_lexer": "ipython3",
   "version": "3.6.5"
  }
 },
 "nbformat": 4,
 "nbformat_minor": 2
}
