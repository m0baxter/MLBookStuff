{
 "cells": [
  {
   "cell_type": "code",
   "execution_count": 1,
   "metadata": {},
   "outputs": [],
   "source": [
    "import numpy as np\n",
    "import tensorflow as tf\n",
    "\n",
    "from datetime import datetime"
   ]
  },
  {
   "cell_type": "code",
   "execution_count": 2,
   "metadata": {},
   "outputs": [
    {
     "name": "stdout",
     "output_type": "stream",
     "text": [
      "Extracting /tmp/data/train-images-idx3-ubyte.gz\n",
      "Extracting /tmp/data/train-labels-idx1-ubyte.gz\n",
      "Extracting /tmp/data/t10k-images-idx3-ubyte.gz\n",
      "Extracting /tmp/data/t10k-labels-idx1-ubyte.gz\n"
     ]
    }
   ],
   "source": [
    "mnist = input_data.read_data_sets(\"/tmp/data\")\n",
    "\n",
    "_, n = mnist.train.images.shape"
   ]
  },
  {
   "cell_type": "code",
   "execution_count": 3,
   "metadata": {},
   "outputs": [],
   "source": [
    "now = datetime.utcnow().strftime(\"%Y%m%d%H%M%S\")\n",
    "rootLogDir = \"tfLogs\"\n",
    "logDir = \"{0}/run-{1}/\".format(rootLogDir, now)\n",
    "\n",
    "fileWriter = tf.summary.FileWriter( logDir, tf.get_default_graph() )"
   ]
  },
  {
   "cell_type": "code",
   "execution_count": 4,
   "metadata": {},
   "outputs": [],
   "source": [
    "def mnistClassifier( X, y, nOut, nl = 1, nh = 100, alpha = 0.01, momentum = 0.9 ):\n",
    "\n",
    "    if ( nl < 1 ):\n",
    "        print( \"You need at least one hidden layer.\" )\n",
    "        return\n",
    "\n",
    "    if ( nh < 1 ):\n",
    "        print( \"you need at least one neuron.\" )\n",
    "        return\n",
    "\n",
    "    with tf.name_scope( \"dnn\" ):\n",
    "        layers = [ tf.layers.dense( X, nh, name = \"hidden1\", activation = tf.nn.relu ) ]\n",
    "\n",
    "        for i in range(2, nl + 1):\n",
    "            layers.append( tf.layers.dense( layers[-1], nh, name = \"hidden\" + str(i), activation = tf.nn.relu ) )\n",
    "\n",
    "        logits = tf.layers.dense( layers[-1], nOut, name = \"output\" )\n",
    "\n",
    "    with tf.name_scope(\"loss\"):\n",
    "        crossEnt = tf.nn.sparse_softmax_cross_entropy_with_logits( labels = y, logits = logits)\n",
    "        loss = tf.reduce_mean( crossEnt, name = \"loss\" )\n",
    "        \n",
    "    with tf.name_scope(\"eval\"):\n",
    "        correct = tf.nn.in_top_k(logits, y, 1)\n",
    "        accuracy = tf.reduce_mean( tf.cast(correct, tf.float32) )\n",
    "        \n",
    "    with tf.name_scope(\"train\"):\n",
    "        opt = tf.train.MomentumOptimizer( learning_rate = alpha, momentum = momentum)\n",
    "        training = opt.minimize( loss )\n",
    "        lossSummary = tf.summary.scalar(\"crossEntropy\", loss)\n",
    "        \n",
    "    with tf.name_scope(\"utility\"):\n",
    "        init = tf.global_variables_initializer()\n",
    "        saver = tf.train.Saver()\n",
    "        \n",
    "    return loss, training, accuracy, lossSummary, init, saver\n"
   ]
  },
  {
   "cell_type": "code",
   "execution_count": 5,
   "metadata": {},
   "outputs": [],
   "source": [
    "X = tf.placeholder(tf.float32, shape = (None, n), name = \"X\")\n",
    "y = tf.placeholder(tf.int32, shape = (None), name = \"y\")\n",
    "\n",
    "loss, training, accuracy, lossSummary, init, saver = mnistClassifier( X, y, 10,\n",
    "                                                                      nl = 4,\n",
    "                                                                      nh = 200,\n",
    "                                                                      alpha = 0.01,\n",
    "                                                                      momentum = 0.9 )"
   ]
  },
  {
   "cell_type": "code",
   "execution_count": 6,
   "metadata": {},
   "outputs": [
    {
     "name": "stdout",
     "output_type": "stream",
     "text": [
      "0 Training: 0.96875 Validation: 0.957\n",
      "1 Training: 1.0 Validation: 0.9632\n",
      "2 Training: 0.984375 Validation: 0.9734\n",
      "3 Training: 1.0 Validation: 0.976\n",
      "4 Training: 1.0 Validation: 0.9784\n",
      "5 Training: 0.984375 Validation: 0.9784\n",
      "6 Training: 1.0 Validation: 0.9804\n",
      "7 Training: 0.96875 Validation: 0.9806\n",
      "8 Training: 1.0 Validation: 0.9826\n",
      "9 Training: 1.0 Validation: 0.9796\n",
      "10 Training: 0.984375 Validation: 0.9774\n",
      "11 Training: 0.984375 Validation: 0.9836\n",
      "12 Training: 1.0 Validation: 0.979\n",
      "13 Training: 1.0 Validation: 0.9786\n",
      "14 Training: 1.0 Validation: 0.9812\n",
      "15 Training: 0.984375 Validation: 0.9778\n",
      "16 Training: 1.0 Validation: 0.981\n",
      "17 Training: 1.0 Validation: 0.9828\n",
      "18 Training: 1.0 Validation: 0.9848\n",
      "19 Training: 1.0 Validation: 0.9842\n",
      "20 Training: 1.0 Validation: 0.985\n",
      "21 Training: 1.0 Validation: 0.9846\n",
      "22 Training: 1.0 Validation: 0.9848\n",
      "23 Training: 1.0 Validation: 0.9848\n",
      "24 Training: 1.0 Validation: 0.9846\n",
      "25 Training: 1.0 Validation: 0.985\n",
      "26 Training: 1.0 Validation: 0.985\n",
      "27 Training: 1.0 Validation: 0.9848\n",
      "28 Training: 1.0 Validation: 0.985\n",
      "29 Training: 1.0 Validation: 0.985\n",
      "30 Training: 1.0 Validation: 0.9852\n",
      "31 Training: 1.0 Validation: 0.9852\n",
      "32 Training: 1.0 Validation: 0.9854\n",
      "33 Training: 1.0 Validation: 0.9852\n",
      "34 Training: 1.0 Validation: 0.9854\n",
      "35 Training: 1.0 Validation: 0.9852\n",
      "36 Training: 1.0 Validation: 0.9854\n",
      "37 Training: 1.0 Validation: 0.9854\n",
      "38 Training: 1.0 Validation: 0.9852\n",
      "39 Training: 1.0 Validation: 0.9854\n",
      "40 Training: 1.0 Validation: 0.9854\n",
      "41 Training: 1.0 Validation: 0.9852\n",
      "42 Training: 1.0 Validation: 0.9848\n",
      "No imporvement on validation set after 10 epochs. Training competed\n",
      "saving model.\n"
     ]
    }
   ],
   "source": [
    "nEpochs = 1000\n",
    "batchSize = 64 #2048\n",
    "\n",
    "hiVal = 0\n",
    "patience = 0\n",
    "\n",
    "with tf.Session() as sess:\n",
    "\n",
    "    init.run()\n",
    "    \n",
    "    for epoch in range(nEpochs):\n",
    "        for i in range( mnist.train.num_examples // batchSize ):\n",
    "            \n",
    "            batchX ,batchY = mnist.train.next_batch( batchSize )\n",
    "            sess.run( training, feed_dict = { X : batchX, y : batchY } )\n",
    "            \n",
    "        trainAcc = accuracy.eval( feed_dict = { X : batchX, y : batchY } )\n",
    "        valAcc   = accuracy.eval( feed_dict = { X : mnist.validation.images,\n",
    "                                                y : mnist.validation.labels } )\n",
    "\n",
    "        print( epoch, \"Training:\", trainAcc, \"Validation:\", valAcc )\n",
    "\n",
    "        if ( valAcc > hiVal ):\n",
    "            hiVal = valAcc\n",
    "            patience = 0\n",
    "\n",
    "        else:\n",
    "            patience += 1\n",
    "\n",
    "        if ( patience >= 10):\n",
    "            print(\"No imporvement on validation set after {0} epochs. Training competed\".format(patience))\n",
    "            break\n",
    "            \n",
    "    print(\"saving model.\")\n",
    "    saver.save(sess, \"./model.ckpt\")\n"
   ]
  },
  {
   "cell_type": "code",
   "execution_count": 7,
   "metadata": {},
   "outputs": [
    {
     "name": "stdout",
     "output_type": "stream",
     "text": [
      "INFO:tensorflow:Restoring parameters from ./model.ckpt\n",
      "Accuracy on test set: 0.9823\n"
     ]
    }
   ],
   "source": [
    "tf.reset_default_graph()\n",
    "#sess = tf.Session()\n",
    "\n",
    "X = tf.placeholder(tf.float32, shape = (None, n), name = \"X\")\n",
    "y = tf.placeholder(tf.int32, shape = (None), name = \"y\")\n",
    "\n",
    "loss, training, accuracy, lossSummary, init, saver = mnistClassifier( X, y, 10,\n",
    "                                                                      nl = 4,\n",
    "                                                                      nh = 200,\n",
    "                                                                      alpha = 0.01,\n",
    "                                                                      momentum = 0.9 )\n",
    "\n",
    "with tf.Session() as sess:\n",
    "\n",
    "    saver.restore( sess, \"./model.ckpt\" )\n",
    "    testAcc = accuracy.eval( feed_dict = { X : mnist.test.images, y : mnist.test.labels })\n",
    "\n",
    "    print( \"Accuracy on test set:\", testAcc )"
   ]
  },
  {
   "cell_type": "code",
   "execution_count": null,
   "metadata": {},
   "outputs": [],
   "source": []
  }
 ],
 "metadata": {
  "kernelspec": {
   "display_name": "Python 3",
   "language": "python",
   "name": "python3"
  },
  "language_info": {
   "codemirror_mode": {
    "name": "ipython",
    "version": 3
   },
   "file_extension": ".py",
   "mimetype": "text/x-python",
   "name": "python",
   "nbconvert_exporter": "python",
   "pygments_lexer": "ipython3",
   "version": "3.6.5"
  }
 },
 "nbformat": 4,
 "nbformat_minor": 2
}
